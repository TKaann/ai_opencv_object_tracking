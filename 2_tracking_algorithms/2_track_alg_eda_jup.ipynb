{
 "cells": [
  {
   "cell_type": "code",
   "execution_count": null,
   "id": "aeb2ee1e",
   "metadata": {},
   "outputs": [],
   "source": [
    "import pandas as pd\n",
    "import cv2\n",
    "import numpy as np\n",
    "import matplotlib.pyplot as plt\n",
    "import time\n",
    "import seaborn as sns"
   ]
  },
  {
   "cell_type": "code",
   "execution_count": null,
   "id": "97592f6d",
   "metadata": {},
   "outputs": [],
   "source": [
    "#col list, bu liste gt txt dosyasinin icindeki degerlerin sirasiyla kolon isimleri. peki bunu nereden biliyoruz?\n",
    "#https://motchallenge.net/vis/MOT17-13-SDP/det/\n",
    "#https://arxiv.org/pdf/1603.00831.pdf\n",
    "#buradaki makalede hangi siradaki sutunun neyi ifade ettigi yaziyor, oradan baktik ve sutun isimlerini yazdik.\n",
    "col_list = [\"frame_number\",\"identity_number\",\"left\",\"top\",\"width\",\"height\",\"score\",\"class\",\"visibility\"]\n",
    "\n",
    "#artik yeni verimizde kolon isimleri de yazicak\n",
    "data = pd.read_csv(\"gt.txt\", names = col_list)\n",
    "\n",
    "#burda kac video icinde kac farkli nesne var ona bakiyoruz\n",
    "plt.figure()\n",
    "sns.countplot(data[\"class\"])\n",
    "\n",
    "#dokumandan arabanin 3 numara oldugunu ogrendik.\n",
    "car = data[data[\"class\"] == 3]\n",
    "\n",
    "#videomuzu ice aktariyoruz.\n",
    "video_path = \"MOT17-13-SDP.mp4\"\n",
    "\n",
    "cap = cv2.VideoCapture(video_path)\n",
    "\n",
    "#29 numarali aracimizi takip ediyoruz, videoda hangi aracin hangi numarasi oldugunu gosteriyoru.\n",
    "id1 = 29\n",
    "numberOfImage = np.max(data[\"frame_number\"])\n",
    "fps = 25\n",
    "bound_box_list = []\n",
    "\n",
    "for i in range(numberOfImage-1):\n",
    "    \n",
    "    ret, frame = cap.read()\n",
    "    \n",
    "    if ret:\n",
    "        #videomuzu buraz kucultuyoruz.\n",
    "        frame = cv2.resize(frame, dsize=(960,540))\n",
    "        \n",
    "        filter_id1 = np.logical_and(car[\"frame_number\"] == i+1, car[\"identity_number\"]==id1)\n",
    "        \n",
    "        if len(car[filter_id1]) != 0:\n",
    "            \n",
    "            x = int(car[filter_id1].left.values[0]/2)\n",
    "            y = int(car[filter_id1].top.values[0]/2)\n",
    "            w = int(car[filter_id1].width.values[0]/2)\n",
    "            h = int(car[filter_id1].height.values[0]/2)\n",
    "            \n",
    "            \n",
    "            cv2.rectangle(frame, (x,y),(x+w,y+h),(0,255,0),2)\n",
    "            cv2.circle(frame, (int(x+w/2),int(y+h/2)), 2, (0,0,255),-1)\n",
    "            \n",
    "            # frame, x, y, genis, yuksek, center_x, center_y\n",
    "            bound_box_list.append([i, x,y,w,h,int(x+w/2),int(y+h/2)])\n",
    "            \n",
    "        cv2.putText(frame, \"Frame num:\"+str(i+1), (10,30), cv2.FONT_HERSHEY_SCRIPT_SIMPLEX,1,(0,0,255),2)\n",
    "        cv2.imshow(\"frame\", frame)\n",
    "\n",
    "        if cv2.waitKey(1) & 0xFF == ord(\"q\"): break\n",
    "    else: break\n",
    "\n",
    "cap.release()\n",
    "cv2.destroyAllWindows()        \n",
    "  \n",
    "#burada ise 29 numarali arabamiza ait yeni bit gt kaydi olusturduk, simdi onun takibini yapicaz. \n",
    "#ve ne kadar duzgun takip edebiliyoruz onu cikarticaz.\n",
    "df = pd.DataFrame(bound_box_list, columns = [\"frame_no\", \"x\", \"y\", \"w\", \"h\", \"center_x\", \"center_y\"])\n",
    "      \n",
    "df.to_csv(\"gt_new.txt\",index=False)"
   ]
  },
  {
   "cell_type": "code",
   "execution_count": null,
   "id": "32deeedd",
   "metadata": {},
   "outputs": [],
   "source": []
  },
  {
   "cell_type": "code",
   "execution_count": null,
   "id": "0775081d",
   "metadata": {},
   "outputs": [],
   "source": []
  },
  {
   "cell_type": "code",
   "execution_count": null,
   "id": "1a7f7b1e",
   "metadata": {},
   "outputs": [],
   "source": []
  },
  {
   "cell_type": "code",
   "execution_count": null,
   "id": "6bf93ffb",
   "metadata": {},
   "outputs": [],
   "source": []
  },
  {
   "cell_type": "code",
   "execution_count": null,
   "id": "0ea16df3",
   "metadata": {},
   "outputs": [],
   "source": []
  },
  {
   "cell_type": "code",
   "execution_count": null,
   "id": "994c73c2",
   "metadata": {},
   "outputs": [],
   "source": []
  },
  {
   "cell_type": "code",
   "execution_count": null,
   "id": "65320ca6",
   "metadata": {},
   "outputs": [],
   "source": []
  },
  {
   "cell_type": "code",
   "execution_count": null,
   "id": "6d9ef567",
   "metadata": {},
   "outputs": [],
   "source": []
  },
  {
   "cell_type": "code",
   "execution_count": null,
   "id": "2e86d934",
   "metadata": {},
   "outputs": [],
   "source": []
  },
  {
   "cell_type": "code",
   "execution_count": null,
   "id": "67de7b95",
   "metadata": {},
   "outputs": [],
   "source": []
  },
  {
   "cell_type": "code",
   "execution_count": null,
   "id": "02fab263",
   "metadata": {},
   "outputs": [],
   "source": []
  },
  {
   "cell_type": "code",
   "execution_count": null,
   "id": "b9f0cbeb",
   "metadata": {},
   "outputs": [],
   "source": []
  },
  {
   "cell_type": "code",
   "execution_count": null,
   "id": "868bc118",
   "metadata": {},
   "outputs": [],
   "source": []
  },
  {
   "cell_type": "code",
   "execution_count": null,
   "id": "5595d19b",
   "metadata": {},
   "outputs": [],
   "source": []
  },
  {
   "cell_type": "code",
   "execution_count": null,
   "id": "8cb5507d",
   "metadata": {},
   "outputs": [],
   "source": []
  },
  {
   "cell_type": "code",
   "execution_count": null,
   "id": "3629d66e",
   "metadata": {},
   "outputs": [],
   "source": []
  },
  {
   "cell_type": "code",
   "execution_count": null,
   "id": "dbdc08fd",
   "metadata": {},
   "outputs": [],
   "source": []
  },
  {
   "cell_type": "code",
   "execution_count": null,
   "id": "73425117",
   "metadata": {},
   "outputs": [],
   "source": []
  }
 ],
 "metadata": {
  "kernelspec": {
   "display_name": "Python 3 (ipykernel)",
   "language": "python",
   "name": "python3"
  },
  "language_info": {
   "codemirror_mode": {
    "name": "ipython",
    "version": 3
   },
   "file_extension": ".py",
   "mimetype": "text/x-python",
   "name": "python",
   "nbconvert_exporter": "python",
   "pygments_lexer": "ipython3",
   "version": "3.9.18"
  }
 },
 "nbformat": 4,
 "nbformat_minor": 5
}
