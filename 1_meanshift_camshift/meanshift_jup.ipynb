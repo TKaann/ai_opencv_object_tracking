{
 "cells": [
  {
   "cell_type": "code",
   "execution_count": 1,
   "id": "a54e557a",
   "metadata": {},
   "outputs": [],
   "source": [
    "import cv2\n",
    "import numpy as np"
   ]
  },
  {
   "cell_type": "code",
   "execution_count": 2,
   "id": "b91f9957",
   "metadata": {},
   "outputs": [],
   "source": [
    "#burada yapacagimiz sey kamermizla bir yuz algilayip onun takibini yapmak"
   ]
  },
  {
   "cell_type": "code",
   "execution_count": 4,
   "id": "5589e76c",
   "metadata": {},
   "outputs": [],
   "source": [
    "#kameramizi aciyoruz\n",
    "cap = cv2.VideoCapture(0)\n",
    "\n",
    "\n",
    "\n",
    "#ve ardindan bir tane frame yakaliyoruz, neden bir tane? cunku;\n",
    "#normalde bunu while dongusu icinde yapiyorduk ama simdi takip islemini gerceklestirecegimiz icin bizim amacimiz\n",
    "#onde yuzu tespit etmek bunu bir kere yapicaz sonrasinda takibe while dongusu icerisinde gecice cunku;\n",
    "#eger while dongusu icerisinde biz bu yuzu tespit etseydik bu takip degil de zaten tespit algoritmasi olurdu.\n",
    "#bu nedenle bir tane frame okuycaz.\n",
    "\n",
    "ret, frame = cap.read()\n",
    "\n",
    "if ret == False:\n",
    "    print(\"Uyarı\")\n",
    "    \n",
    "\n",
    "#simdi ise yuz detection islemine gecelim, bunu da onceki projelerde kullandigimiz haarcascade ile yapicaz.\n",
    "face_cascade = cv2.CascadeClassifier(\"haarcascade_frontalface_default.xml\")    \n",
    "face_rects = face_cascade.detectMultiScale(frame)\n",
    "\n",
    "(face_x, face_y, w, h) = tuple(face_rects[0])\n",
    "track_window = (face_x, face_y, w, h) # meanshift algoritması girdisi\n",
    "\n",
    "#takip algoritmasi burada detectMultiscale de tespit ettigi yuzun face_rects deki kordinatlarina gore track window u baslaticak.\n",
    "\n",
    "\n",
    "#simdi ise region of interest yapicaz, region of interest dedigimiz sey ise;\n",
    "#tespit edilen kutucugun icerisi, yani yuz\n",
    "\n",
    "roi = frame[face_y:face_y + h, face_x : face_x + w] # roi = face\n",
    "\n",
    "hsv_roi = cv2.cvtColor(roi, cv2.COLOR_BGR2HSV)\n",
    "\n",
    "\n",
    "\n",
    "#simdi ise hsv_roi nin histogramini hesaplamamiz gerekiyor onu yapalim.\n",
    "\n",
    "roi_hist = cv2.calcHist([hsv_roi],[0],None,[180],[0,180]) # takip için histogram gerekli\n",
    "cv2.normalize(roi_hist , roi_hist ,0 ,255, cv2.NORM_MINMAX)\n",
    "\n",
    "\n",
    "\n",
    "# takip icin gerekli durdurma kriterleri\n",
    "# count = hesaplanacak maksimum oge sayısı\n",
    "# eps = degisiklik\n",
    "term_crit = (cv2.TERM_CRITERIA_EPS | cv2.TERM_CRITERIA_COUNT, 5, 1)   #5 yineleme ya da 1 tane epsilon\n",
    "\n",
    "\n",
    "\n",
    "#burada takibe basliyoruz.\n",
    "while True:\n",
    "    \n",
    "    ret, frame = cap.read()\n",
    "    \n",
    "    if ret:\n",
    "        \n",
    "        hsv = cv2.cvtColor(frame, cv2.COLOR_BGR2HSV)\n",
    "        \n",
    "        # histogramı bir goruntude bulmak için kullnıyoruz\n",
    "        # piksel karşılaştırma\n",
    "        dst = cv2.calcBackProject([hsv], [0], roi_hist, [0,180],1)\n",
    "\n",
    "        ret, track_window = cv2.meanShift(dst, track_window, term_crit)\n",
    "        \n",
    "        x,y,w,h = track_window\n",
    "        \n",
    "        img2 = cv2.rectangle(frame, (x,y), (x+w, y+h),(0,0,255),5)\n",
    "        \n",
    "        cv2.imshow(\"Takip\", img2)\n",
    "        \n",
    "        if cv2.waitKey(1) & 0xFF == ord(\"q\"): break\n",
    "            \n",
    "cap.release()\n",
    "cv2.destroyAllWindows()"
   ]
  },
  {
   "cell_type": "code",
   "execution_count": null,
   "id": "a56777f5",
   "metadata": {},
   "outputs": [],
   "source": []
  },
  {
   "cell_type": "code",
   "execution_count": null,
   "id": "ebb8026d",
   "metadata": {},
   "outputs": [],
   "source": []
  },
  {
   "cell_type": "code",
   "execution_count": null,
   "id": "6a38a243",
   "metadata": {},
   "outputs": [],
   "source": []
  },
  {
   "cell_type": "code",
   "execution_count": null,
   "id": "3b373f3f",
   "metadata": {},
   "outputs": [],
   "source": []
  },
  {
   "cell_type": "code",
   "execution_count": null,
   "id": "14c16c55",
   "metadata": {},
   "outputs": [],
   "source": []
  },
  {
   "cell_type": "code",
   "execution_count": null,
   "id": "09508016",
   "metadata": {},
   "outputs": [],
   "source": []
  },
  {
   "cell_type": "code",
   "execution_count": null,
   "id": "d1a89fad",
   "metadata": {},
   "outputs": [],
   "source": []
  },
  {
   "cell_type": "code",
   "execution_count": null,
   "id": "fb7b6b75",
   "metadata": {},
   "outputs": [],
   "source": []
  },
  {
   "cell_type": "code",
   "execution_count": null,
   "id": "dfa70506",
   "metadata": {},
   "outputs": [],
   "source": []
  },
  {
   "cell_type": "code",
   "execution_count": null,
   "id": "a9abb835",
   "metadata": {},
   "outputs": [],
   "source": []
  },
  {
   "cell_type": "code",
   "execution_count": null,
   "id": "89007bf0",
   "metadata": {},
   "outputs": [],
   "source": []
  },
  {
   "cell_type": "code",
   "execution_count": null,
   "id": "d6be6c4d",
   "metadata": {},
   "outputs": [],
   "source": []
  },
  {
   "cell_type": "code",
   "execution_count": null,
   "id": "76a72cad",
   "metadata": {},
   "outputs": [],
   "source": []
  },
  {
   "cell_type": "code",
   "execution_count": null,
   "id": "acfb1edb",
   "metadata": {},
   "outputs": [],
   "source": []
  },
  {
   "cell_type": "code",
   "execution_count": null,
   "id": "8e23806b",
   "metadata": {},
   "outputs": [],
   "source": []
  },
  {
   "cell_type": "code",
   "execution_count": null,
   "id": "f49abcfb",
   "metadata": {},
   "outputs": [],
   "source": []
  },
  {
   "cell_type": "code",
   "execution_count": null,
   "id": "2b205cde",
   "metadata": {},
   "outputs": [],
   "source": []
  }
 ],
 "metadata": {
  "kernelspec": {
   "display_name": "Python 3 (ipykernel)",
   "language": "python",
   "name": "python3"
  },
  "language_info": {
   "codemirror_mode": {
    "name": "ipython",
    "version": 3
   },
   "file_extension": ".py",
   "mimetype": "text/x-python",
   "name": "python",
   "nbconvert_exporter": "python",
   "pygments_lexer": "ipython3",
   "version": "3.9.18"
  }
 },
 "nbformat": 4,
 "nbformat_minor": 5
}
